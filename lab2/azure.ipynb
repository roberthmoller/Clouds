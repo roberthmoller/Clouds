{
 "cells": [
  {
   "cell_type": "markdown",
   "metadata": {},
   "source": [
    "# Azure"
   ]
  },
  {
   "cell_type": "code",
   "execution_count": 2,
   "metadata": {},
   "outputs": [
    {
     "name": "stdout",
     "output_type": "stream",
     "text": [
      "\u001b[93mA web browser has been opened at https://login.microsoftonline.com/organizations/oauth2/v2.0/authorize. Please continue the login in the web browser. If no web browser is available or if the web browser fails to open, use device code flow with `az login --use-device-code`.\u001b[0m\n",
      "[\n",
      "  {\n",
      "    \"cloudName\": \"AzureCloud\",\n",
      "    \"homeTenantId\": \"b1100d2c-2b47-41ff-99c6-6cd6e1f5128b\",\n",
      "    \"id\": \"dbcd440d-e000-4cd3-a88a-e67585219fd9\",\n",
      "    \"isDefault\": true,\n",
      "    \"managedByTenants\": [],\n",
      "    \"name\": \"Azure subscription 1\",\n",
      "    \"state\": \"Enabled\",\n",
      "    \"tenantId\": \"b1100d2c-2b47-41ff-99c6-6cd6e1f5128b\",\n",
      "    \"user\": {\n",
      "      \"name\": \"roberthmoller@outlook.com\",\n",
      "      \"type\": \"user\"\n",
      "    }\n",
      "  }\n",
      "]\n"
     ]
    }
   ],
   "source": [
    "!az login --scope https://management.core.windows.net//.default"
   ]
  },
  {
   "cell_type": "markdown",
   "metadata": {},
   "source": [
    "# Scalesets\n"
   ]
  },
  {
   "cell_type": "code",
   "execution_count": 3,
   "metadata": {},
   "outputs": [
    {
     "name": "stdout",
     "output_type": "stream",
     "text": [
      "{\n",
      "  \"id\": \"/subscriptions/dbcd440d-e000-4cd3-a88a-e67585219fd9/resourceGroups/lab2scalesets\",\n",
      "  \"location\": \"westeurope\",\n",
      "  \"managedBy\": null,\n",
      "  \"name\": \"lab2scalesets\",\n",
      "  \"properties\": {\n",
      "    \"provisioningState\": \"Succeeded\"\n",
      "  },\n",
      "  \"tags\": null,\n",
      "  \"type\": \"Microsoft.Resources/resourceGroups\"\n",
      "}\n"
     ]
    }
   ],
   "source": [
    "!az group create --name lab2scalesets --location westeurope"
   ]
  },
  {
   "cell_type": "code",
   "execution_count": 4,
   "metadata": {},
   "outputs": [
    {
     "name": "stdout",
     "output_type": "stream",
     "text": [
      "\u001b[K{\\ Finished ..\n",
      "  \"vmss\": {\n",
      "    \"doNotRunExtensionsOnOverprovisionedVMs\": false,\n",
      "    \"orchestrationMode\": \"Uniform\",\n",
      "    \"overprovision\": true,\n",
      "    \"platformFaultDomainCount\": 1,\n",
      "    \"provisioningState\": \"Succeeded\",\n",
      "    \"singlePlacementGroup\": false,\n",
      "    \"timeCreated\": \"2022-11-14T15:49:23.0036438+00:00\",\n",
      "    \"uniqueId\": \"e860a4f1-0f78-41b4-83ee-ff36c86d2361\",\n",
      "    \"upgradePolicy\": {\n",
      "      \"mode\": \"Automatic\",\n",
      "      \"rollingUpgradePolicy\": {\n",
      "        \"maxBatchInstancePercent\": 20,\n",
      "        \"maxUnhealthyInstancePercent\": 20,\n",
      "        \"maxUnhealthyUpgradedInstancePercent\": 20,\n",
      "        \"pauseTimeBetweenBatches\": \"PT0S\"\n",
      "      }\n",
      "    },\n",
      "    \"virtualMachineProfile\": {\n",
      "      \"networkProfile\": {\n",
      "        \"networkInterfaceConfigurations\": [\n",
      "          {\n",
      "            \"name\": \"scalec4edNic\",\n",
      "            \"properties\": {\n",
      "              \"disableTcpStateTracking\": false,\n",
      "              \"dnsSettings\": {\n",
      "                \"dnsServers\": []\n",
      "              },\n",
      "              \"enableAcceleratedNetworking\": false,\n",
      "              \"enableIPForwarding\": false,\n",
      "              \"ipConfigurations\": [\n",
      "                {\n",
      "                  \"name\": \"scalec4edIPConfig\",\n",
      "                  \"properties\": {\n",
      "                    \"loadBalancerBackendAddressPools\": [\n",
      "                      {\n",
      "                        \"id\": \"/subscriptions/dbcd440d-e000-4cd3-a88a-e67585219fd9/resourceGroups/lab2scalesets/providers/Microsoft.Network/loadBalancers/scalesetmolLB/backendAddressPools/scalesetmolLBBEPool\",\n",
      "                        \"resourceGroup\": \"lab2scalesets\"\n",
      "                      }\n",
      "                    ],\n",
      "                    \"privateIPAddressVersion\": \"IPv4\",\n",
      "                    \"subnet\": {\n",
      "                      \"id\": \"/subscriptions/dbcd440d-e000-4cd3-a88a-e67585219fd9/resourceGroups/lab2scalesets/providers/Microsoft.Network/virtualNetworks/scalesetmolVNET/subnets/scalesetmolSubnet\",\n",
      "                      \"resourceGroup\": \"lab2scalesets\"\n",
      "                    }\n",
      "                  }\n",
      "                }\n",
      "              ],\n",
      "              \"networkSecurityGroup\": {\n",
      "                \"id\": \"/subscriptions/dbcd440d-e000-4cd3-a88a-e67585219fd9/resourceGroups/lab2scalesets/providers/Microsoft.Network/networkSecurityGroups/scalesetmolNSG\",\n",
      "                \"resourceGroup\": \"lab2scalesets\"\n",
      "              },\n",
      "              \"primary\": true\n",
      "            }\n",
      "          }\n",
      "        ]\n",
      "      },\n",
      "      \"osProfile\": {\n",
      "        \"adminUsername\": \"azuremol\",\n",
      "        \"allowExtensionOperations\": true,\n",
      "        \"computerNamePrefix\": \"scalec4ed\",\n",
      "        \"linuxConfiguration\": {\n",
      "          \"disablePasswordAuthentication\": true,\n",
      "          \"enableVMAgentPlatformUpdates\": false,\n",
      "          \"provisionVMAgent\": true,\n",
      "          \"ssh\": {\n",
      "            \"publicKeys\": [\n",
      "              {\n",
      "                \"keyData\": \"ssh-rsa AAAAB3NzaC1yc2EAAAADAQABAAACAQC377wgyQfynmv8ihw5vchRBJL7q40qlaqa3tO/p1Ftqsv2u8K4HXjVEtisuWKTxCnIMxQQDqBSDointI89JT0o9Fk95dQRiC9VH9yxPa1xiBN3uYCy8M8j1mnIjcKAssdHYRQEkfJ2Iz+Onr1Ag4jwzG1/bs9CART+fh2hV+UnIqBwygKUIAxHh5v7frHmG3fmpf1oFhMGQu2UVacU+ekGNllLxRQDQhaxggScZyED8CDxOgq8+IObMfrxhxc4EbJROXrnfg016CPc27Q4Wp0g+b4tAglvAiLwIpa8ODfQdYYCbcdzMLRvdOKLCLYupxD/yl/W/15whjaxNxZFQOiOBGZxCWAGgSON9GKUcr2h6mmBU0RumvOAA2VnJZr7UQlY5iwRQfTccHqt8T/djedzkySTgfeVlMhcCMO1XEaIYCVFHOB3JZ9c+T9NsVtpujd8tKHGIWoy43xLReqH5aUQujCON7lRw0DyXdYQPnvs0BTMGSRvA6K1l3XBQ0/CBuCyoZEtv9hQPf2xKDb4JtBIrpDpbQajRkl1tDMcxiJ8py8c+YStbu2/3olN0GgqAXuIwqgevSjVGmErQfffubzVLTgQPenwsRdRrdXfVYY/+IMDV7vR1OTK5j994MkW52rp2hYiX8BRjzAbFGFmzzim25ArB0nBYKzFqkq4a4MJvQ== Robert@hjortsholm.com\\n\",\n",
      "                \"path\": \"/home/azuremol/.ssh/authorized_keys\"\n",
      "              }\n",
      "            ]\n",
      "          }\n",
      "        },\n",
      "        \"requireGuestProvisionSignal\": true,\n",
      "        \"secrets\": []\n",
      "      },\n",
      "      \"storageProfile\": {\n",
      "        \"imageReference\": {\n",
      "          \"offer\": \"UbuntuServer\",\n",
      "          \"publisher\": \"Canonical\",\n",
      "          \"sku\": \"18.04-LTS\",\n",
      "          \"version\": \"latest\"\n",
      "        },\n",
      "        \"osDisk\": {\n",
      "          \"caching\": \"ReadWrite\",\n",
      "          \"createOption\": \"FromImage\",\n",
      "          \"diskSizeGB\": 30,\n",
      "          \"managedDisk\": {\n",
      "            \"storageAccountType\": \"Premium_LRS\"\n",
      "          },\n",
      "          \"osType\": \"Linux\"\n",
      "        }\n",
      "      }\n",
      "    },\n",
      "    \"zoneBalance\": false\n",
      "  }\n",
      "}\n"
     ]
    }
   ],
   "source": [
    "!az vmss create \\\n",
    "               --resource-group lab2scalesets \\\n",
    "               --name scalesetmol \\\n",
    "               --image UbuntuLTS \\\n",
    "               --admin-username azuremol \\\n",
    "               --generate-ssh-keys \\\n",
    "               --instance-count 2 \\\n",
    "               --vm-sku Standard_B1ms \\\n",
    "               --upgrade-policy-mode automatic \\\n",
    "               --lb-sku standard \\\n",
    "               --zones 1 2 3"
   ]
  },
  {
   "cell_type": "code",
   "execution_count": 11,
   "metadata": {},
   "outputs": [
    {
     "name": "stdout",
     "output_type": "stream",
     "text": [
      "Name                   ResourceGroup    Location    Type                                       Status\n",
      "---------------------  ---------------  ----------  -----------------------------------------  --------\n",
      "scalesetmol            lab2scalesets    westeurope  Microsoft.Compute/virtualMachineScaleSets\n",
      "scalesetmolLB          lab2scalesets    westeurope  Microsoft.Network/loadBalancers\n",
      "scalesetmolNSG         lab2scalesets    westeurope  Microsoft.Network/networkSecurityGroups\n",
      "scalesetmolLBPublicIP  lab2scalesets    westeurope  Microsoft.Network/publicIPAddresses\n",
      "scalesetmolVNET        lab2scalesets    westeurope  Microsoft.Network/virtualNetworks\n"
     ]
    }
   ],
   "source": [
    "!az resource list \\\n",
    "  --resource-group lab2scalesets \\\n",
    "  --output table"
   ]
  },
  {
   "cell_type": "code",
   "execution_count": 15,
   "metadata": {},
   "outputs": [
    {
     "name": "stdout",
     "output_type": "stream",
     "text": [
      "20.160.44.212\n"
     ]
    }
   ],
   "source": [
    "\n",
    "!az network public-ip show \\\n",
    "     --resource-group lab2scalesets \\\n",
    "     --name scalesetmolLBPublicIP \\\n",
    "     --query ipAddress \\\n",
    "     --output tsv\n"
   ]
  },
  {
   "cell_type": "code",
   "execution_count": 16,
   "metadata": {},
   "outputs": [
    {
     "name": "stdout",
     "output_type": "stream",
     "text": [
      "^C\n"
     ]
    }
   ],
   "source": [
    "!ssh -i part2/key.pem azuremol@20.160.44.212"
   ]
  }
 ],
 "metadata": {
  "kernelspec": {
   "display_name": "Python 3.8.12 64-bit ('.venv')",
   "language": "python",
   "name": "python3"
  },
  "language_info": {
   "codemirror_mode": {
    "name": "ipython",
    "version": 3
   },
   "file_extension": ".py",
   "mimetype": "text/x-python",
   "name": "python",
   "nbconvert_exporter": "python",
   "pygments_lexer": "ipython3",
   "version": "3.8.12"
  },
  "orig_nbformat": 4,
  "vscode": {
   "interpreter": {
    "hash": "de4388732e2f6ccbc4d00d52605f77a123f14bf8174d5de4e426964b1abcd99e"
   }
  }
 },
 "nbformat": 4,
 "nbformat_minor": 2
}
